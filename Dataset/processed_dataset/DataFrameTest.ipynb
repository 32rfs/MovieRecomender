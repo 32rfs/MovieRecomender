{
 "cells": [
  {
   "cell_type": "code",
   "execution_count": 1,
   "metadata": {
    "collapsed": true,
    "ExecuteTime": {
     "end_time": "2023-05-09T08:31:18.632789600Z",
     "start_time": "2023-05-09T08:31:17.668983500Z"
    }
   },
   "outputs": [],
   "source": [
    "import pandas as pd\n"
   ]
  },
  {
   "cell_type": "code",
   "execution_count": 14,
   "outputs": [],
   "source": [
    "df = pd.read_csv('./main_data.csv',sep=',')"
   ],
   "metadata": {
    "collapsed": false,
    "ExecuteTime": {
     "end_time": "2023-05-09T08:59:06.957196700Z",
     "start_time": "2023-05-09T08:59:06.594205800Z"
    }
   }
  },
  {
   "cell_type": "code",
   "execution_count": 15,
   "outputs": [
    {
     "data": {
      "text/plain": "       genres                 movie_title director_name   \ncount   83445                       83445         83445  \\\nunique   4214                       83445         45027   \ntop     Drama  The Other Side of the Wind       unknown   \nfreq    14727                           1           102   \n\n                          comb  \ncount                    83445  \nunique                   74068  \ntop     Charlie Chaplin Comedy  \nfreq                        29  ",
      "text/html": "<div>\n<style scoped>\n    .dataframe tbody tr th:only-of-type {\n        vertical-align: middle;\n    }\n\n    .dataframe tbody tr th {\n        vertical-align: top;\n    }\n\n    .dataframe thead th {\n        text-align: right;\n    }\n</style>\n<table border=\"1\" class=\"dataframe\">\n  <thead>\n    <tr style=\"text-align: right;\">\n      <th></th>\n      <th>genres</th>\n      <th>movie_title</th>\n      <th>director_name</th>\n      <th>comb</th>\n    </tr>\n  </thead>\n  <tbody>\n    <tr>\n      <th>count</th>\n      <td>83445</td>\n      <td>83445</td>\n      <td>83445</td>\n      <td>83445</td>\n    </tr>\n    <tr>\n      <th>unique</th>\n      <td>4214</td>\n      <td>83445</td>\n      <td>45027</td>\n      <td>74068</td>\n    </tr>\n    <tr>\n      <th>top</th>\n      <td>Drama</td>\n      <td>The Other Side of the Wind</td>\n      <td>unknown</td>\n      <td>Charlie Chaplin Comedy</td>\n    </tr>\n    <tr>\n      <th>freq</th>\n      <td>14727</td>\n      <td>1</td>\n      <td>102</td>\n      <td>29</td>\n    </tr>\n  </tbody>\n</table>\n</div>"
     },
     "execution_count": 15,
     "metadata": {},
     "output_type": "execute_result"
    }
   ],
   "source": [
    "df.describe()"
   ],
   "metadata": {
    "collapsed": false,
    "ExecuteTime": {
     "end_time": "2023-05-09T08:59:07.962552300Z",
     "start_time": "2023-05-09T08:59:07.758193100Z"
    }
   }
  },
  {
   "cell_type": "code",
   "execution_count": 16,
   "outputs": [
    {
     "data": {
      "text/plain": "         genres                 movie_title                 director_name   \n0         Drama  The Other Side of the Wind                  Orson Welles  \\\n1        Comedy                 A Thin Life  Jay Jalbert Kenny Bernardini   \n2         Drama              Reverse Heaven                   Stuart Paul   \n3  Action Drama          To Chase a Million                   Pat Jackson   \n4  Drama Family               Aamaar Bhuvan                    Mrinal Sen   \n\n                                  comb  \n0                   Orson Welles Drama  \n1  Jay Jalbert Kenny Bernardini Comedy  \n2                    Stuart Paul Drama  \n3             Pat Jackson Action Drama  \n4              Mrinal Sen Drama Family  ",
      "text/html": "<div>\n<style scoped>\n    .dataframe tbody tr th:only-of-type {\n        vertical-align: middle;\n    }\n\n    .dataframe tbody tr th {\n        vertical-align: top;\n    }\n\n    .dataframe thead th {\n        text-align: right;\n    }\n</style>\n<table border=\"1\" class=\"dataframe\">\n  <thead>\n    <tr style=\"text-align: right;\">\n      <th></th>\n      <th>genres</th>\n      <th>movie_title</th>\n      <th>director_name</th>\n      <th>comb</th>\n    </tr>\n  </thead>\n  <tbody>\n    <tr>\n      <th>0</th>\n      <td>Drama</td>\n      <td>The Other Side of the Wind</td>\n      <td>Orson Welles</td>\n      <td>Orson Welles Drama</td>\n    </tr>\n    <tr>\n      <th>1</th>\n      <td>Comedy</td>\n      <td>A Thin Life</td>\n      <td>Jay Jalbert Kenny Bernardini</td>\n      <td>Jay Jalbert Kenny Bernardini Comedy</td>\n    </tr>\n    <tr>\n      <th>2</th>\n      <td>Drama</td>\n      <td>Reverse Heaven</td>\n      <td>Stuart Paul</td>\n      <td>Stuart Paul Drama</td>\n    </tr>\n    <tr>\n      <th>3</th>\n      <td>Action Drama</td>\n      <td>To Chase a Million</td>\n      <td>Pat Jackson</td>\n      <td>Pat Jackson Action Drama</td>\n    </tr>\n    <tr>\n      <th>4</th>\n      <td>Drama Family</td>\n      <td>Aamaar Bhuvan</td>\n      <td>Mrinal Sen</td>\n      <td>Mrinal Sen Drama Family</td>\n    </tr>\n  </tbody>\n</table>\n</div>"
     },
     "execution_count": 16,
     "metadata": {},
     "output_type": "execute_result"
    }
   ],
   "source": [
    "df.head()"
   ],
   "metadata": {
    "collapsed": false,
    "ExecuteTime": {
     "end_time": "2023-05-09T10:41:07.570081300Z",
     "start_time": "2023-05-09T10:41:07.538419Z"
    }
   }
  },
  {
   "cell_type": "code",
   "execution_count": null,
   "outputs": [],
   "source": [],
   "metadata": {
    "collapsed": false
   }
  }
 ],
 "metadata": {
  "kernelspec": {
   "display_name": "Python 3",
   "language": "python",
   "name": "python3"
  },
  "language_info": {
   "codemirror_mode": {
    "name": "ipython",
    "version": 2
   },
   "file_extension": ".py",
   "mimetype": "text/x-python",
   "name": "python",
   "nbconvert_exporter": "python",
   "pygments_lexer": "ipython2",
   "version": "2.7.6"
  }
 },
 "nbformat": 4,
 "nbformat_minor": 0
}
